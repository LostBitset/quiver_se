{
 "cells": [
  {
   "cell_type": "code",
   "execution_count": 2,
   "id": "54c5971e-2d18-4abf-9e05-938d8ca49ad2",
   "metadata": {
    "tags": []
   },
   "outputs": [],
   "source": [
    "content = None\n",
    "with open(\"log.txt\", \"r\") as f:\n",
    "    content = f.readlines()"
   ]
  },
  {
   "cell_type": "code",
   "execution_count": 5,
   "id": "1ff478d7-cb56-4806-a7b1-f331c04a0b80",
   "metadata": {
    "tags": []
   },
   "outputs": [],
   "source": [
    "relevant = [ l for l in content if l.startswith(\"FAIL\\t\") or l.startswith(\"os.Exit(0x0)\") ]"
   ]
  },
  {
   "cell_type": "code",
   "execution_count": null,
   "id": "2e7c5cb4-cba5-458c-97ef-28eee666a410",
   "metadata": {},
   "outputs": [],
   "source": [
    "timelines = []\n",
    "lastok = False\n",
    "for i in relevant:\n",
    "    if i.startswith(\"os.Exit\"):\n",
    "        lastok = True\n",
    "        continue\n",
    "    else:\n",
    "        if lastok:\n",
    "            timelines.append(i)\n",
    "        lastok = False"
   ]
  }
 ],
 "metadata": {
  "kernelspec": {
   "display_name": "Python 3 (ipykernel)",
   "language": "python",
   "name": "python3"
  },
  "language_info": {
   "codemirror_mode": {
    "name": "ipython",
    "version": 3
   },
   "file_extension": ".py",
   "mimetype": "text/x-python",
   "name": "python",
   "nbconvert_exporter": "python",
   "pygments_lexer": "ipython3",
   "version": "3.10.9"
  }
 },
 "nbformat": 4,
 "nbformat_minor": 5
}
