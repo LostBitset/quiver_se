{
 "cells": [
  {
   "cell_type": "code",
   "execution_count": 5,
   "id": "6ded90ce-7bb9-4c43-b8f4-d88a402116bb",
   "metadata": {
    "tags": []
   },
   "outputs": [],
   "source": [
    "import matplotlib.pyplot as plt\n",
    "import csv\n",
    "\n",
    "class CsvReaderHeading:\n",
    "    def __init__(self, file):\n",
    "        self.reader = csv.reader(file)\n",
    "        self.header = next(self.reader)\n",
    "        self.indices = range(len(self.header))\n",
    "\n",
    "    def __next__(self):\n",
    "        as_list = next(self.reader)\n",
    "        return { self.header[i]: as_list[i] for i in self.indices }\n",
    "\n",
    "class CsvTable:\n",
    "    def __init__(self, itr):\n",
    "        self.rows = list(itr)\n",
    "    \n",
    "    @property\n",
    "    def cols(self):\n",
    "        return []"
   ]
  },
  {
   "cell_type": "code",
   "execution_count": 4,
   "id": "555c5f56-2af4-4e65-a8a1-da80ea168991",
   "metadata": {
    "tags": []
   },
   "outputs": [
    {
     "data": {
      "text/plain": [
       "['excel', 'excel-tab', 'unix']"
      ]
     },
     "execution_count": 4,
     "metadata": {},
     "output_type": "execute_result"
    }
   ],
   "source": [
    "csv.list_dialects()"
   ]
  }
 ],
 "metadata": {
  "kernelspec": {
   "display_name": "Python 3 (ipykernel)",
   "language": "python",
   "name": "python3"
  },
  "language_info": {
   "codemirror_mode": {
    "name": "ipython",
    "version": 3
   },
   "file_extension": ".py",
   "mimetype": "text/x-python",
   "name": "python",
   "nbconvert_exporter": "python",
   "pygments_lexer": "ipython3",
   "version": "3.10.9"
  }
 },
 "nbformat": 4,
 "nbformat_minor": 5
}
