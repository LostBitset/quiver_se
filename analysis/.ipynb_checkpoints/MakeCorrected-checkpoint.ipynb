{
 "cells": [
  {
   "cell_type": "code",
   "execution_count": 3,
   "id": "2b777cf1-8753-4266-9bbd-6c623b1774ab",
   "metadata": {
    "tags": []
   },
   "outputs": [],
   "source": [
    "import csv\n",
    "\n",
    "def corrected(filename):\n",
    "    with open(filename, newline=\"\") as f:\n",
    "        rdr = csv.reader(f)\n",
    "        yield next(rdr)\n",
    "        for srow in rdr:\n",
    "            row = [ int(i) for i in srow ]\n",
    "            m = min(row)\n",
    "            #if all(m == i for i in row):\n",
    "            #    continue\n",
    "            yield [ str(i - m) for i in row ]\n",
    "\n",
    "with open(\"log_corr.csv\", \"w\", newline=\"\") as f:\n",
    "    wrr = csv.writer(f)\n",
    "    for i in corrected(\"log.csv\"):\n",
    "        wrr.writerow(i)"
   ]
  }
 ],
 "metadata": {
  "kernelspec": {
   "display_name": "Python 3 (ipykernel)",
   "language": "python",
   "name": "python3"
  },
  "language_info": {
   "codemirror_mode": {
    "name": "ipython",
    "version": 3
   },
   "file_extension": ".py",
   "mimetype": "text/x-python",
   "name": "python",
   "nbconvert_exporter": "python",
   "pygments_lexer": "ipython3",
   "version": "3.10.9"
  }
 },
 "nbformat": 4,
 "nbformat_minor": 5
}
